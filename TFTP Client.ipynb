{
 "cells": [
  {
   "cell_type": "code",
   "execution_count": 1,
   "metadata": {},
   "outputs": [],
   "source": [
    "import os\n",
    "import struct\n",
    "import socket"
   ]
  },
  {
   "cell_type": "code",
   "execution_count": 2,
   "metadata": {},
   "outputs": [],
   "source": [
    "def main():\n",
    "    g_server_ip = input(\"Please key in the IP to download(If your server is local, key in 127.0.0.1)：\")\n",
    "    g_downloadFileName = input(\"Please key in the file's name(ex: bigfile.txt)：\")\n",
    "    print('ip: '+ g_server_ip +'  file name: '+ g_downloadFileName )\n",
    "    \n",
    "    # H: unsigned short 2bytes\n",
    "    # s: char[]\n",
    "    # b: signed char 1 byte\n",
    "    # 1 is RRQ Opcode\n",
    "    sendDataFirst = struct.pack('!H%dsb5sb'%len(g_downloadFileName), 1, g_downloadFileName.encode('ascii'), 0, 'octet'.encode('ascii'), 0)\n",
    "    \n",
    "    # Create UDP socket\n",
    "    s = socket.socket(socket.AF_INET, socket.SOCK_DGRAM)\n",
    "    # Send download file request data \n",
    "    s.sendto(sendDataFirst, (g_server_ip, 69))\n",
    "    \n",
    "    # Indicates that the data can be downloaded, if it is false then delete file\n",
    "    downloadFlag = True\n",
    "    fileNum = 0  # number of received file\n",
    "    \n",
    "    # Open file in binary format\n",
    "    f = open(g_downloadFileName, 'wb')\n",
    "    \n",
    "    while True:\n",
    "        # receive response DATA sent back from server\n",
    "        recvData, serverInfo = s.recvfrom(1024)\n",
    "        \n",
    "        # unpacking DATA\n",
    "        packetOpt = struct.unpack('!H', recvDatav[:2]) #OPcode\n",
    "        packetNum = struct.unpack('!H', recvDatav[2:4]) # block num\n",
    "        \n",
    "        if packetOpt[0] == 3: # 3 is DATA Opcode\n",
    "            fileNum += 1\n",
    "            \n",
    "            if fileNum == packetNum[0]:\n",
    "                f.write(recvData[4:]) #write DATA content into file\n",
    "            \n",
    "            # after receiving DATA, send ACK to server\n",
    "            ackData = struct.pack('!HH', 4, packetNum[0])\n",
    "            s.sendto(ackData, serverInfo)\n",
    "        \n",
    "        # ERROR response  \n",
    "        elif packetNuma[0] == 5: # ERROR Opcode\n",
    "            print('Sorry, this file doesnt exist!')\n",
    "            downloadFlag = False  # delete file\n",
    "            break\n",
    "            \n",
    "        else:\n",
    "            print(packetOpt[0])\n",
    "            break\n",
    "        \n",
    "        #completed \n",
    "        if len(recvDatav) < 516:\n",
    "            downloadFlag = True\n",
    "            print(g_downloadFileName + ' download complete!')\n",
    "            break\n",
    "    if downloadFlag == True:\n",
    "        f.close()\n",
    "    else:\n",
    "        # if no downloaded file, delete the created file\n",
    "        f.close()\n",
    "        os.remove(g_downloadFileName)"
   ]
  },
  {
   "cell_type": "code",
   "execution_count": null,
   "metadata": {},
   "outputs": [
    {
     "name": "stdout",
     "output_type": "stream",
     "text": [
      "Please key in the IP to download(If your server is local, key in 127.0.0.1)：127.0.0.1\n",
      "Please key in the file's name(ex: bigfile.txt)：bigfile.txt\n",
      "ip: 127.0.0.1  file name: bigfile.txt\n"
     ]
    }
   ],
   "source": [
    "# call main func\n",
    "if __name__ == '__main__':\n",
    "    main()"
   ]
  },
  {
   "cell_type": "code",
   "execution_count": null,
   "metadata": {},
   "outputs": [],
   "source": []
  }
 ],
 "metadata": {
  "kernelspec": {
   "display_name": "Python 3",
   "language": "python",
   "name": "python3"
  },
  "language_info": {
   "codemirror_mode": {
    "name": "ipython",
    "version": 3
   },
   "file_extension": ".py",
   "mimetype": "text/x-python",
   "name": "python",
   "nbconvert_exporter": "python",
   "pygments_lexer": "ipython3",
   "version": "3.7.4"
  },
  "varInspector": {
   "cols": {
    "lenName": 16,
    "lenType": 16,
    "lenVar": 40
   },
   "kernels_config": {
    "python": {
     "delete_cmd_postfix": "",
     "delete_cmd_prefix": "del ",
     "library": "var_list.py",
     "varRefreshCmd": "print(var_dic_list())"
    },
    "r": {
     "delete_cmd_postfix": ") ",
     "delete_cmd_prefix": "rm(",
     "library": "var_list.r",
     "varRefreshCmd": "cat(var_dic_list()) "
    }
   },
   "types_to_exclude": [
    "module",
    "function",
    "builtin_function_or_method",
    "instance",
    "_Feature"
   ],
   "window_display": false
  }
 },
 "nbformat": 4,
 "nbformat_minor": 2
}
